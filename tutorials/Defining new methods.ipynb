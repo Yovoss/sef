{
 "cells": [
  {
   "cell_type": "markdown",
   "metadata": {},
   "source": [
    "# Defining new similarity targets\n",
    "\n",
    "In this tutorial we demonstrate how we can define custom similarity target functions. This allows for easily deriving new dimensionality reduction techniques. \n",
    "\n",
    "A similarity generator function in the PySEF adheres to the following pattern:\n",
    "\n",
    "```python\n",
    "def custom_similarity_function(target_data, target_labels, sigma, idx, \n",
    "    target_params):\n",
    "    Gt = np.zeros((len(idx), len(idx)))\n",
    "    Gt_mask = np.zeros((len(idx), len(idx)))\n",
    "    # Calculate the similarity target here\n",
    "    return np.float32(Gt), np.float32(Gt_mask)\n",
    "```\n",
    "\n",
    "Any similarity target function receives 5 arguments: the target data (usually used when we want to mimic another technqiue), the target_labels (usually used when supervised information is availabe), the sigma (scaling factor) that must be used in the similarity calculations, the indices of the current batch and the target_params (used to pass additional arguments to the similarity function). The similarity function must return the similarity **only** for the target_data/labels pointed by the indices (idx). In each iteration a different set of indices are passed to the function (for calculating the target similarity matrix for a different batch). Note that the target_data, target_labels, sigma, and target_params are passed through the *fit* function. A similarity function might not need all these data (*None* can be safely passed to the arguments that are not used).\n",
    "\n",
    "So, lets define a custom similarity target function that uses supervised information (labels) and sets the target similarity to 0.8 for samples that belong to the same class and 0.1 otherwise.\n",
    " "
   ]
  },
  {
   "cell_type": "code",
   "execution_count": 9,
   "metadata": {
    "collapsed": true
   },
   "outputs": [],
   "source": [
    "def sim_target_supervised(target_data, target_labels, sigma, idx, target_params):\n",
    "\n",
    "    cur_labels = target_labels[idx]\n",
    "    N = cur_labels.shape[0]\n",
    "\n",
    "    N_labels = len(np.unique(cur_labels))\n",
    "\n",
    "    Gt, mask = np.zeros((N, N)), np.zeros((N, N))\n",
    "\n",
    "    for i in range(N):\n",
    "        for j in range(N):\n",
    "            if cur_labels[i] == cur_labels[j]:\n",
    "                Gt[i, j] = 0.8\n",
    "                mask[i, j] = 1\n",
    "            else:\n",
    "                Gt[i, j] = 0.1\n",
    "                mask[i, j] = 0.8 / (N_labels - 1)\n",
    "\n",
    "    return np.float32(Gt), np.float32(mask)"
   ]
  },
  {
   "cell_type": "markdown",
   "metadata": {},
   "source": [
    "Note that we also appropriately set the weighting mask to account for the imbalance between the intra-class and inter-class samples. It is important to remember to work only with the current batch (using the idx) and not with the whole training set (that is always passed to target_data/target_labels). Also, note that the *target_data*, *sigma* and *target_params* arguments are not used."
   ]
  },
  {
   "cell_type": "markdown",
   "metadata": {},
   "source": [
    "Load three classes of the MNIST dataset to evaluate the function that we just defined."
   ]
  },
  {
   "cell_type": "code",
   "execution_count": 10,
   "metadata": {},
   "outputs": [],
   "source": [
    "import numpy as np\n",
    "from keras.datasets import mnist\n",
    "\n",
    "(x_train, y_train), (x_test, y_test) = mnist.load_data()\n",
    "\n",
    "# We will only use the training data\n",
    "x_train = np.float32(x_train.reshape((x_train.shape[0], -1)) / 255.0)\n",
    "\n",
    "# Sample three classes\n",
    "idx = np.logical_or(y_train == 0, y_train == 1)\n",
    "idx = np.logical_or(idx, y_train == 2)\n",
    "x_train, y_train = x_train[idx], y_train[idx]\n",
    "x_train, y_train = x_train[:100, :], y_train[:100]"
   ]
  },
  {
   "cell_type": "markdown",
   "metadata": {},
   "source": [
    "Now, learn a kernel projection to achieve the target similarity defined by *sim_target_supervised*:"
   ]
  },
  {
   "cell_type": "code",
   "execution_count": 11,
   "metadata": {
    "collapsed": true
   },
   "outputs": [],
   "source": [
    "import sef_dr\n",
    "\n",
    "proj = sef_dr.KernelSEF(x_train, x_train.shape[0], 2, sigma=1, learning_rate=0.0001, regularizer_weight=0)\n",
    "proj.fit(x_train, target_labels=y_train, target=sim_target_supervised, iters=500)\n",
    "train_data = proj.transform(x_train)"
   ]
  },
  {
   "cell_type": "markdown",
   "metadata": {},
   "source": [
    "Note that we pass the *sim_target_supervised* function in the *target* argument and we only define the *target_labels* argument in the *fit()* function. \n",
    "\n",
    "Now we can plot the learned projection:"
   ]
  },
  {
   "cell_type": "code",
   "execution_count": 12,
   "metadata": {},
   "outputs": [
    {
     "data": {
      "image/png": "[encoded data removed]",
      "text/plain": [
       "<matplotlib.figure.Figure at 0x7f3af29732d0>"
      ]
     },
     "metadata": {},
     "output_type": "display_data"
    }
   ],
   "source": [
    "import matplotlib\n",
    "import matplotlib.pyplot as plt\n",
    "import matplotlib.patches as mpatches\n",
    "%matplotlib inline  \n",
    "\n",
    "fig = plt.figure(figsize=(5, 5))\n",
    "plt.scatter(train_data[:, 0], train_data[:, 1], c=y_train,\n",
    "            cmap=matplotlib.colors.ListedColormap(['red', 'green', 'blue', ]))\n",
    "plt.legend(handles=[mpatches.Patch(color='red', label='Digit 0'), mpatches.Patch(color='green', label='Digit 1'),\n",
    "                        mpatches.Patch(color='blue', label='Digit 2')], loc='upper left')\n",
    "\n",
    "plt.show()"
   ]
  },
  {
   "cell_type": "markdown",
   "metadata": {},
   "source": [
    "The target that we defined tries to place the samples of the same class close together (but not to collapse them into the same point), as well as to repel samples of different classes (but it still maintains as small similarity between them). This problem is ill-posed in the 2-D space (when more than 3 points per class are used). The optimization converges to a quite interesting solution: the samples of the same class have been arranged in circles, while the circles of different classes are almost equidistant to each other!"
   ]
  }
 ],
 "metadata": {
  "kernelspec": {
   "display_name": "Python 2",
   "language": "python",
   "name": "python2"
  },
  "language_info": {
   "codemirror_mode": {
    "name": "ipython",
    "version": 2
   },
   "file_extension": ".py",
   "mimetype": "text/x-python",
   "name": "python",
   "nbconvert_exporter": "python",
   "pygments_lexer": "ipython2",
   "version": "2.7.12"
  }
 },
 "nbformat": 4,
 "nbformat_minor": 1
}
