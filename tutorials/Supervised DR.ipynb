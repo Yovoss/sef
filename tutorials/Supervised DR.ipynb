{
 "cells": [
  {
   "cell_type": "markdown",
   "metadata": {},
   "source": [
    "# Supervised (LDA-like) projection using the SEF\n",
    "\n",
    "### Load the data\n",
    "\n",
    "First, we have to load a dataset! Let's use keras to load the well-known MNIST dataset."
   ]
  },
  {
   "cell_type": "code",
   "execution_count": 11,
   "metadata": {},
   "outputs": [],
   "source": [
    "import numpy as np\n",
    "from keras.datasets import mnist\n",
    "\n",
    "(x_train, y_train), (x_test, y_test) = mnist.load_data()\n",
    "\n",
    "# Reshape and normalize the data\n",
    "x_train = x_train.reshape((x_train.shape[0], -1)) / 255.0\n",
    "x_test = x_test.reshape((x_test.shape[0], -1)) / 255.0\n",
    "\n",
    "x_train, x_test = np.float32(x_train), np.float32(x_test)"
   ]
  },
  {
   "cell_type": "markdown",
   "metadata": {},
   "source": [
    "### Learn a projection using SEF\n",
    "\n",
    "First, we have to create a linear SEF object. Note that we have supply the number of input dimensions, as well as the target dimensionality. We can also specify the learning rate and the regularizer weight in the class constructor (usually the default values work just fine).\n"
   ]
  },
  {
   "cell_type": "code",
   "execution_count": 12,
   "metadata": {
    "collapsed": true
   },
   "outputs": [],
   "source": [
    "import sef_dr\n",
    "\n",
    "linear_sef = sef_dr.LinearSEF(input_dimensionality=x_train.shape[1], output_dimensionality=9, regularizer_weight=0.001)\n"
   ]
  },
  {
   "cell_type": "markdown",
   "metadata": {},
   "source": [
    "Then, we fit the projection. We have to supply the type of the target similarity matrix (or a function that creates the target similarity matrix on-the-fly)."
   ]
  },
  {
   "cell_type": "code",
   "execution_count": 13,
   "metadata": {
    "collapsed": true
   },
   "outputs": [],
   "source": [
    "loss = linear_sef.fit(data=x_train[:5000], target_labels=y_train[:5000], target='supervised', iters=50, batch_size=128,)"
   ]
  },
  {
   "cell_type": "markdown",
   "metadata": {},
   "source": [
    "Let's examine the loss function:"
   ]
  },
  {
   "cell_type": "code",
   "execution_count": 14,
   "metadata": {},
   "outputs": [
    {
     "data": {
      "image/png": "[encoded data removed]",
      "text/plain": [
       "<matplotlib.figure.Figure at 0x7f7dc0ba2550>"
      ]
     },
     "metadata": {},
     "output_type": "display_data"
    }
   ],
   "source": [
    "import matplotlib\n",
    "import matplotlib.pyplot as plt\n",
    "%matplotlib inline  \n",
    "\n",
    "plt.plot(np.arange(loss.shape[0]), loss)\n",
    "plt.title('Loss during optimization')\n",
    "plt.show()"
   ]
  },
  {
   "cell_type": "markdown",
   "metadata": {},
   "source": [
    "The loss is practically the same after the 20th iteration, so a solution has been found. Let's evaluate it!\n",
    "First, transform the data:"
   ]
  },
  {
   "cell_type": "code",
   "execution_count": 15,
   "metadata": {
    "collapsed": true
   },
   "outputs": [],
   "source": [
    "# Tranform the data\n",
    "train_data = linear_sef.transform(x_train)\n",
    "test_data = linear_sef.transform(x_test)"
   ]
  },
  {
   "cell_type": "markdown",
   "metadata": {},
   "source": [
    "Then, use an SVM to evaluate the solution:"
   ]
  },
  {
   "cell_type": "code",
   "execution_count": 16,
   "metadata": {},
   "outputs": [
    {
     "name": "stdout",
     "output_type": "stream",
     "text": [
      "Αccuracy =  88.06 %\n"
     ]
    }
   ],
   "source": [
    "from sklearn import svm, grid_search\n",
    "from sklearn.neighbors import NearestCentroid\n",
    "from sklearn.preprocessing import MinMaxScaler\n",
    "\n",
    "# Scale the data\n",
    "scaler = MinMaxScaler()\n",
    "train_data = scaler.fit_transform(train_data)\n",
    "test_data = scaler.transform(test_data)\n",
    "    \n",
    "parameters = {'kernel': ['linear'], 'C': [0.01, 0.1, 1, 10, 100, 1000, 10000]}\n",
    "model = svm.SVC(max_iter=10000)\n",
    "clf = grid_search.GridSearchCV(model, parameters, cv=3)\n",
    "clf.fit(train_data[:5000], y_train[:5000])\n",
    "\n",
    "print \"Αccuracy = \", clf.score(test_data, y_test) * 100, \"%\""
   ]
  },
  {
   "cell_type": "markdown",
   "metadata": {},
   "source": [
    "### Compare to LDA\n",
    "\n",
    "The solutions seem good enough, but let's compare it to the regular LDA method!"
   ]
  },
  {
   "cell_type": "code",
   "execution_count": 17,
   "metadata": {},
   "outputs": [
    {
     "name": "stdout",
     "output_type": "stream",
     "text": [
      "Αccuracy =  85.47 %\n"
     ]
    }
   ],
   "source": [
    "from sklearn.discriminant_analysis import LinearDiscriminantAnalysis\n",
    "\n",
    "# Fit the LDA projection\n",
    "lda = LinearDiscriminantAnalysis(n_components=9)\n",
    "lda.fit(x_train[:5000, :], y_train[:5000])\n",
    "\n",
    "# Tranform the data\n",
    "train_data = lda.transform(x_train)\n",
    "test_data = lda.transform(x_test)\n",
    "\n",
    "# Scale the data\n",
    "scaler = MinMaxScaler()\n",
    "train_data = scaler.fit_transform(train_data)\n",
    "test_data = scaler.transform(test_data)\n",
    "    \n",
    "parameters = {'kernel': ['linear'], 'C': [0.01, 0.1, 1, 10, 100, 1000, 10000]}\n",
    "model = svm.SVC(max_iter=10000)\n",
    "clf = grid_search.GridSearchCV(model, parameters, cv=3)\n",
    "clf.fit(train_data[:5000], y_train[:5000])\n",
    "\n",
    "print \"Αccuracy = \", clf.score(test_data, y_test) * 100, \"%\""
   ]
  }
 ],
 "metadata": {
  "kernelspec": {
   "display_name": "Python 2",
   "language": "python",
   "name": "python2"
  },
  "language_info": {
   "codemirror_mode": {
    "name": "ipython",
    "version": 2
   },
   "file_extension": ".py",
   "mimetype": "text/x-python",
   "name": "python",
   "nbconvert_exporter": "python",
   "pygments_lexer": "ipython2",
   "version": "2.7.12"
  }
 },
 "nbformat": 4,
 "nbformat_minor": 1
}
